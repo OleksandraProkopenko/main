{
 "cells": [
  {
   "cell_type": "markdown",
   "metadata": {
    "collapsed": false
   },
   "source": [
    "# A Simplified Kuno Huisman Problem\n",
    "\n",
    "We examine a simplified version of the problem that was presented in the first half of the recent guest lecture by Kuno Huisman. We will see examine a simplified version of that problem and seen how this is a special case of the MDP setup we discussed in class. \n",
    "\n",
    "### Overview of the problem\n",
    "\n",
    "LG is considering whether to invest a new product variety, namely a new type of LCD monitor. We abstract away from the problem of choosing the optimal screen size and focus on the problem of whether to invest and if so, then when. There is a finite number of periods $T$ in which investment can take place, after which investment is worthless (because superior technologies have been developed and therefore, there will be no demand for our product). The revenue from investing decreases in time, which can be due to entry of competitors (but we do not model the competitors for now). There is uncertainty regarding the investment cost. If the decision maker chooses not to invest, she moves to the next period. If she invests, she does not make further decisions and received an expected discounted payoff. \n",
    "\n",
    "In MDP notation:\n",
    "\n",
    "- **State space**: $ \\mathcal{X} = \\{ x^1, x^2 \\} $. Corresponding to low and high investment costs, respecitvely.\n",
    "\n",
    "- ***Binomial* transition probabilities**: $ \\Pi $, where an element is  $\\pi_{ij}=Pr(x_{t+1}=j \\ \\big| \\ x_{t}=i )$.\n",
    "\n",
    "\n",
    "- **Action space**: $ \\mathcal{A} = \\{ 0,1 \\} $. Corresponding to investing or not investing.\n",
    "\n",
    "- **Markov decision rule**: $ \\alpha_t : \\mathcal{X} \\rightarrow \\mathcal{A} $. Complete contingent plan: an action given any state for every time period.\n",
    "\n",
    "- **Flow utility**\n",
    "\n",
    "$$\n",
    "u_t(0, x_t) = 0\n",
    "$$\n",
    "\n",
    "$$\n",
    "u_t(1, x_t) = t^{-p} - x_t\n",
    "$$\n",
    "\n",
    "$\\ \\ \\ \\ \\ \\ $where $p$ is a parameter governing how fast the the revenue from investing decreases\n",
    "\n",
    "\n",
    "\n",
    "\n",
    "\n"
   ]
  },
  {
   "cell_type": "code",
   "execution_count": null,
   "metadata": {
    "collapsed": true
   },
   "outputs": [],
   "source": [
    "rho = 0.9;\n",
    "tCheck=10 ;\n",
    "x = [0.2; 0.5] ; % state space (low and high investment cost)\n",
    "\n",
    "UInvest=nan(tCheck,2); UNot=UInvest; action = UInvest ;\n",
    "v=nan(tCheck+1,2);\n",
    "\n",
    "v(tCheck+1,1) = 0;\n",
    "v(tCheck+1,2) = 0;\n",
    "\n",
    "p1 = 0.8; % Probability of transitioning from low cost state to low cost state\n",
    "p2 = 0.2; % Probability of transitioning from high cost state to low cost state\n",
    "\n",
    "pi = [ p1, 1-p1; \n",
    "       p2, 1-p2] ;\n",
    "\n",
    "power = 0.8\n",
    "for t=tCheck:-1:1\n",
    "    UInvest(t, :) = (1/t)^power - x(:);\n",
    "    UNot(t, :) = rho*( pi(:,:) * v(t+1,:)' );\n",
    "    action(t,:) = UInvest(t,:) > UNot(t,:);\n",
    "    v(t,:) = max([UInvest(t,:); UNot(t,:)]);\n",
    "end\n",
    "\n",
    "display(action)\n",
    "display(UInvest)\n",
    "display(UNot)"
   ]
  }
 ],
 "metadata": {
  "kernelspec": {
   "display_name": "Matlab",
   "language": "matlab",
   "name": "matlab"
  },
  "language_info": {
   "codemirror_mode": "octave",
   "file_extension": ".m",
   "help_links": [
    {
     "text": "MetaKernel Magics",
     "url": "https://github.com/calysto/metakernel/blob/master/metakernel/magics/README.md"
    }
   ],
   "mimetype": "text/x-octave",
   "name": "matlab",
   "version": "0.15.0"
  }
 },
 "nbformat": 4,
 "nbformat_minor": 2
}
